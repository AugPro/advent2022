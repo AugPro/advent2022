{
 "cells": [
  {
   "cell_type": "code",
   "execution_count": 1,
   "id": "e94532cd",
   "metadata": {},
   "outputs": [],
   "source": [
    "example = \"\"\"\n",
    "vJrwpWtwJgWrhcsFMMfFFhFp\n",
    "jqHRNqRjqzjGDLGLrsFMfFZSrLrFZsSL\n",
    "PmmdzqPrVvPwwTWBwg\n",
    "wMqvLMZHhHMvwLHjbvcjnnSBnvTQFn\n",
    "ttgJtRGJQctTZtZT\n",
    "CrZsJsPPZsGzwwsLwLmpwMDw\n",
    "\"\"\""
   ]
  },
  {
   "cell_type": "code",
   "execution_count": 17,
   "id": "b1d6f3f9",
   "metadata": {},
   "outputs": [],
   "source": [
    "import string\n",
    "\n",
    "def score_letter(letter:str)->int:\n",
    "    priorities_list = string.ascii_letters\n",
    "    return priorities_list.index(letter)+1\n",
    "\n",
    "assert score_letter('a') == 1\n",
    "assert score_letter('z') == 26\n",
    "assert score_letter('A') == 27\n",
    "assert score_letter('Z') == 52\n"
   ]
  },
  {
   "cell_type": "code",
   "execution_count": 34,
   "id": "161778c7",
   "metadata": {},
   "outputs": [],
   "source": [
    "def score_rucksacks(file_content: str)->int:\n",
    "    rucksacks: list[str] = file_content.strip().split('\\n')\n",
    "    duplicates: list[set[str]] = [set(rs[:len(rs)//2]) & set(rs[len(rs)//2:]) for rs in rucksacks]\n",
    "    return sum(map(score_letter, [el for (el,*_) in duplicates]))\n",
    "\n",
    "assert score_rucksacks(example) == 157"
   ]
  },
  {
   "cell_type": "code",
   "execution_count": 22,
   "id": "fcda766f",
   "metadata": {},
   "outputs": [],
   "source": [
    "with open(\"inputs/day3.txt\") as f:\n",
    "    file1 = f.read()"
   ]
  },
  {
   "cell_type": "code",
   "execution_count": 35,
   "id": "76aa9a4d",
   "metadata": {},
   "outputs": [
    {
     "data": {
      "text/plain": [
       "7878"
      ]
     },
     "execution_count": 35,
     "metadata": {},
     "output_type": "execute_result"
    }
   ],
   "source": [
    "score_rucksacks(file1)"
   ]
  },
  {
   "cell_type": "code",
   "execution_count": 45,
   "id": "0c0be848",
   "metadata": {},
   "outputs": [],
   "source": [
    "from more_itertools import chunked\n",
    "def find_letter(groups: list[str])->str:\n",
    "    duplicates = set.intersection(*[set(x) for x in groups])\n",
    "    first_letter, *rest = duplicates\n",
    "    return first_letter\n",
    "\n",
    "def score_rucksacksv2(file_content: str)->int:\n",
    "    rucksacks: list[str] = file_content.strip().split('\\n')\n",
    "    return sum([score_letter(find_letter(batch)) for batch in chunked(rucksacks,3)])\n",
    "\n",
    "\n",
    "assert score_rucksacksv2(example) == 70"
   ]
  },
  {
   "cell_type": "code",
   "execution_count": 46,
   "id": "8e2e7328",
   "metadata": {},
   "outputs": [
    {
     "data": {
      "text/plain": [
       "2760"
      ]
     },
     "execution_count": 46,
     "metadata": {},
     "output_type": "execute_result"
    }
   ],
   "source": [
    "score_rucksacksv2(file1)"
   ]
  },
  {
   "cell_type": "code",
   "execution_count": null,
   "id": "a4c1eed9",
   "metadata": {},
   "outputs": [],
   "source": []
  }
 ],
 "metadata": {
  "kernelspec": {
   "display_name": "Python 3 (ipykernel)",
   "language": "python",
   "name": "python3"
  },
  "language_info": {
   "codemirror_mode": {
    "name": "ipython",
    "version": 3
   },
   "file_extension": ".py",
   "mimetype": "text/x-python",
   "name": "python",
   "nbconvert_exporter": "python",
   "pygments_lexer": "ipython3",
   "version": "3.10.6"
  }
 },
 "nbformat": 4,
 "nbformat_minor": 5
}
