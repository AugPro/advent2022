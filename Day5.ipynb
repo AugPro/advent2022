{
 "cells": [
  {
   "cell_type": "code",
   "execution_count": 59,
   "id": "0fc8a800",
   "metadata": {},
   "outputs": [],
   "source": [
    "example = \"\"\"\n",
    "    [D]    \n",
    "[N] [C]    \n",
    "[Z] [M] [P]\n",
    " 1   2   3 \n",
    "\n",
    "move 1 from 2 to 1\n",
    "move 3 from 1 to 3\n",
    "move 2 from 2 to 1\n",
    "move 1 from 1 to 2\n",
    "\"\"\""
   ]
  },
  {
   "cell_type": "code",
   "execution_count": 33,
   "id": "6e5ba706",
   "metadata": {},
   "outputs": [],
   "source": [
    "from collections import defaultdict\n",
    "\n",
    "def parse_containers(raw:str) -> dict[int, list[str]]:\n",
    "    columns = defaultdict(list)\n",
    "    rows_ordered = [row for row in raw.strip(\"\\n\").split(\"\\n\")[-2::-1]] # -2 to skip numbers line\n",
    "    for row in rows_ordered:\n",
    "        for i,letter in enumerate(row[1::4]): # gets every letter\n",
    "            if letter != \" \":\n",
    "                columns[i+1].append(letter)\n",
    "    return columns\n",
    "raw = \"\"\"\n",
    "    [D]    \n",
    "[N] [C]    \n",
    "[Z] [M] [P]\n",
    " 1   2   3 \n",
    "\"\"\"\n",
    "\n",
    "assert parse_containers(raw) == {\n",
    "    1: [\"Z\",\"N\"],\n",
    "    2: [\"M\", \"C\", \"D\"],\n",
    "    3: [\"P\"],\n",
    "},parse_containers(raw)"
   ]
  },
  {
   "cell_type": "code",
   "execution_count": 48,
   "id": "0a74eca6",
   "metadata": {},
   "outputs": [],
   "source": [
    "import re\n",
    "\n",
    "def parse_instruction(raw:str)-> tuple[int,int,int]:\n",
    "    return tuple(map(int, re.match(r\"move (\\d+) from (\\d+) to (\\d+)\", raw).groups()))\n",
    "    \n",
    "assert parse_instruction(\"move 15 from 6 to 4\") == (15,6,4)"
   ]
  },
  {
   "cell_type": "code",
   "execution_count": 50,
   "id": "fc9c7f8b",
   "metadata": {},
   "outputs": [],
   "source": [
    "def parse_instructions(raw:str)-> list[tuple[int,int,int]]:\n",
    "    return list(map(parse_instruction, raw.strip().split('\\n')))\n",
    "\n",
    "instructions = \"\"\"\n",
    "move 1 from 8 to 3\n",
    "move 15 from 6 to 4\n",
    "move 7 from 5 to 6\n",
    "\"\"\"               \n",
    "assert parse_instructions(instructions) == [(1,8,3), (15,6,4), (7,5,6)]"
   ]
  },
  {
   "cell_type": "code",
   "execution_count": 54,
   "id": "b3db7c8c",
   "metadata": {},
   "outputs": [],
   "source": [
    "def apply_instruction(containers: dict[int, list[str]], instruction: tuple[int,int,int])-> dict[int, list[str]]:\n",
    "    containers = containers.copy()\n",
    "    number, source,destination = instruction\n",
    "    \n",
    "    for _ in range(number):\n",
    "        containers[destination].append(containers[source].pop())\n",
    "    return containers\n",
    "\n",
    "assert apply_instruction({\n",
    "    1: [\"Z\",\"N\"],\n",
    "    2: [\"M\", \"C\", \"D\"],\n",
    "    3: [\"P\"],\n",
    "},\n",
    "(2,2,3)\n",
    ") == {\n",
    "    1: [\"Z\",\"N\"],\n",
    "    2: [\"M\"],\n",
    "    3: [\"P\", \"D\", \"C\"],\n",
    "}"
   ]
  },
  {
   "cell_type": "code",
   "execution_count": 63,
   "id": "39f8a84b",
   "metadata": {},
   "outputs": [],
   "source": [
    "def get_top_containers(raw:str)->str:\n",
    "    ctns, instrs = raw.split(\"\\n\\n\")\n",
    "    containers = parse_containers(ctns)\n",
    "    instructions = parse_instructions(instrs)\n",
    "    \n",
    "    for inst in instructions:\n",
    "        containers = apply_instruction(containers, inst)\n",
    "\n",
    "    return \"\".join(container[-1] for container in containers.values())\n",
    "\n",
    "assert get_top_containers(example) == \"CMZ\""
   ]
  },
  {
   "cell_type": "code",
   "execution_count": 64,
   "id": "95cc08ca",
   "metadata": {},
   "outputs": [],
   "source": [
    "with open(\"inputs/day5.txt\",'r') as f:\n",
    "    file1 = f.read()"
   ]
  },
  {
   "cell_type": "code",
   "execution_count": 65,
   "id": "b37e24b6",
   "metadata": {},
   "outputs": [
    {
     "data": {
      "text/plain": [
       "'ZRLJGSCTR'"
      ]
     },
     "execution_count": 65,
     "metadata": {},
     "output_type": "execute_result"
    }
   ],
   "source": [
    "get_top_containers(file1)"
   ]
  },
  {
   "cell_type": "code",
   "execution_count": null,
   "id": "434453f1",
   "metadata": {},
   "outputs": [],
   "source": []
  }
 ],
 "metadata": {
  "kernelspec": {
   "display_name": "Python 3 (ipykernel)",
   "language": "python",
   "name": "python3"
  },
  "language_info": {
   "codemirror_mode": {
    "name": "ipython",
    "version": 3
   },
   "file_extension": ".py",
   "mimetype": "text/x-python",
   "name": "python",
   "nbconvert_exporter": "python",
   "pygments_lexer": "ipython3",
   "version": "3.10.6"
  }
 },
 "nbformat": 4,
 "nbformat_minor": 5
}
