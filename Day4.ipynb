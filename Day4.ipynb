{
 "cells": [
  {
   "cell_type": "code",
   "execution_count": 2,
   "id": "82938281",
   "metadata": {},
   "outputs": [],
   "source": [
    "example= \"\"\"\n",
    "2-4,6-8\n",
    "2-3,4-5\n",
    "5-7,7-9\n",
    "2-8,3-7\n",
    "6-6,4-6\n",
    "2-6,4-8\n",
    "\"\"\""
   ]
  },
  {
   "cell_type": "code",
   "execution_count": 7,
   "id": "0e87a205",
   "metadata": {},
   "outputs": [],
   "source": [
    "def is_range_included(range1: tuple[int,int], range2: tuple[int,int]) -> bool:\n",
    "    left1, right1 = range1\n",
    "    left2, right2 = range2\n",
    "    \n",
    "    return not (((left1 > left2) and (right1 > right2)) or ((left1 < left2) and (right1 < right2)))\n",
    "\n",
    "assert is_range_included((1,3),(1,2)) is True\n",
    "assert is_range_included((1,3),(1,3)) is True\n",
    "assert is_range_included((1,3),(1,4)) is True\n",
    "assert is_range_included((1,3),(2,2)) is True\n",
    "assert is_range_included((1,3),(2,3)) is True\n",
    "assert is_range_included((1,3),(2,4)) is False\n",
    "assert is_range_included((1,3),(0,2)) is False\n",
    "assert is_range_included((1,3),(0,3)) is True\n",
    "assert is_range_included((1,3),(0,4)) is True\n"
   ]
  },
  {
   "cell_type": "code",
   "execution_count": 13,
   "id": "e5b19bd7",
   "metadata": {},
   "outputs": [],
   "source": [
    "def parse_range(rang:str)-> tuple[int,int]:\n",
    "    return tuple(map(int,rang.split('-')))\n",
    "    \n",
    "assert parse_range(\"10-21\") == (10,21)\n",
    "\n",
    "def parse_row(row:str)->tuple[tuple[int,int],tuple[int,int]]:\n",
    "    return tuple(map(parse_range, row.split(',')))\n",
    "    \n",
    "assert parse_row(\"2-4,6-8\") == ((2,4),(6,8))\n",
    "\n",
    "def score_pairs(file_content:str)->int:\n",
    "    pairs= map(parse_row, file_content.strip().split('\\n')) \n",
    "    return sum(is_range_included(*pair) for pair in  pairs)\n",
    "    \n",
    "assert score_pairs(example) == 2"
   ]
  },
  {
   "cell_type": "code",
   "execution_count": 14,
   "id": "bb81dfe3",
   "metadata": {},
   "outputs": [],
   "source": [
    "with open(\"inputs/day4.txt\") as f:\n",
    "    file1 = f.read()"
   ]
  },
  {
   "cell_type": "code",
   "execution_count": 16,
   "id": "2f8090d4",
   "metadata": {},
   "outputs": [
    {
     "data": {
      "text/plain": [
       "459"
      ]
     },
     "execution_count": 16,
     "metadata": {},
     "output_type": "execute_result"
    }
   ],
   "source": [
    "score_pairs(file1)"
   ]
  },
  {
   "cell_type": "code",
   "execution_count": 21,
   "id": "3364529b",
   "metadata": {},
   "outputs": [],
   "source": [
    "def is_range_overlap(range1: tuple[int,int], range2: tuple[int,int]) -> bool:\n",
    "    left1, right1 = range1\n",
    "    left2, right2 = range2\n",
    "        \n",
    "    if left1 < left2:\n",
    "        return right1 >= left2\n",
    "    elif left1 > left2:\n",
    "        return right2 >= left1\n",
    "    return True\n",
    "    \n",
    "assert is_range_overlap((1,3),(2,2)) is True\n",
    "assert is_range_overlap((1,3),(3,4)) is True\n",
    "assert is_range_overlap((1,2),(3,4)) is False\n",
    "assert is_range_overlap((3,4),(1,2)) is False\n"
   ]
  },
  {
   "cell_type": "code",
   "execution_count": 22,
   "id": "59df6f0d",
   "metadata": {},
   "outputs": [],
   "source": [
    "def score_pairs2(file_content:str)->int:\n",
    "    pairs= map(parse_row, file_content.strip().split('\\n')) \n",
    "    return sum(is_range_overlap(*pair) for pair in  pairs)\n",
    "\n",
    "assert score_pairs2(example)==4"
   ]
  },
  {
   "cell_type": "code",
   "execution_count": 24,
   "id": "64f94c08",
   "metadata": {},
   "outputs": [
    {
     "data": {
      "text/plain": [
       "779"
      ]
     },
     "execution_count": 24,
     "metadata": {},
     "output_type": "execute_result"
    }
   ],
   "source": [
    "score_pairs2(file1)"
   ]
  },
  {
   "cell_type": "code",
   "execution_count": null,
   "id": "c294adc6",
   "metadata": {},
   "outputs": [],
   "source": []
  }
 ],
 "metadata": {
  "kernelspec": {
   "display_name": "Python 3 (ipykernel)",
   "language": "python",
   "name": "python3"
  },
  "language_info": {
   "codemirror_mode": {
    "name": "ipython",
    "version": 3
   },
   "file_extension": ".py",
   "mimetype": "text/x-python",
   "name": "python",
   "nbconvert_exporter": "python",
   "pygments_lexer": "ipython3",
   "version": "3.10.6"
  }
 },
 "nbformat": 4,
 "nbformat_minor": 5
}
